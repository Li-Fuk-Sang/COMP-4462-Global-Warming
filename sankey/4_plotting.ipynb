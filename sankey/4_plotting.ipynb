{
  "nbformat": 4,
  "nbformat_minor": 0,
  "metadata": {
    "colab": {
      "provenance": []
    },
    "kernelspec": {
      "name": "python3",
      "display_name": "Python 3"
    },
    "language_info": {
      "name": "python"
    }
  },
  "cells": [
    {
      "cell_type": "code",
      "execution_count": null,
      "metadata": {
        "colab": {
          "base_uri": "https://localhost:8080/",
          "height": 542
        },
        "id": "klvTkkuxInxy",
        "outputId": "8b55b395-3f63-4155-ca0d-88953d6b0003"
      },
      "outputs": [
        {
          "output_type": "display_data",
          "data": {
            "text/html": [
              "<html>\n",
              "<head><meta charset=\"utf-8\" /></head>\n",
              "<body>\n",
              "    <div>            <script src=\"https://cdnjs.cloudflare.com/ajax/libs/mathjax/2.7.5/MathJax.js?config=TeX-AMS-MML_SVG\"></script><script type=\"text/javascript\">if (window.MathJax) {MathJax.Hub.Config({SVG: {font: \"STIX-Web\"}});}</script>                <script type=\"text/javascript\">window.PlotlyConfig = {MathJaxConfig: 'local'};</script>\n",
              "        <script src=\"https://cdn.plot.ly/plotly-2.8.3.min.js\"></script>                <div id=\"73cf97b0-978c-4c4d-a857-cf4ddac1c4d5\" class=\"plotly-graph-div\" style=\"height:525px; width:100%;\"></div>            <script type=\"text/javascript\">                                    window.PLOTLYENV=window.PLOTLYENV || {};                                    if (document.getElementById(\"73cf97b0-978c-4c4d-a857-cf4ddac1c4d5\")) {                    Plotly.newPlot(                        \"73cf97b0-978c-4c4d-a857-cf4ddac1c4d5\",                        [{\"arrangement\":\"snap\",\"link\":{\"customdata\":[\"29.3%\",\"64.2%\",\"4.6%\",\"1.8%\",\"25.3%\",\"51.7%\",\"14.1%\",\"8.9%\",\"7.9%\",\"14.8%\",\"15.9%\",\"4.4%\",\"5.1%\",\"4.3%\",\"5.2%\",\"42.5%\",\"1.6%\",\"35.9%\",\"26.6%\",\"15.2%\",\"20.7%\",\"94.9%\",\"5.1%\",\"17.1%\",\"36.4%\",\"19.1%\",\"5.3%\",\"9.9%\",\"7.1%\",\"5.1%\",\"17.7%\",\"38.4%\",\"20.0%\",\"5.5%\",\"7.4%\",\"6.4%\",\"4.7%\",\"15.2%\",\"47.2%\",\"10.9%\",\"5.3%\",\"9.7%\",\"7.7%\",\"3.9%\",\"21.9%\",\"35.5%\",\"21.0%\",\"5.1%\",\"5.2%\",\"4.1%\",\"7.3%\",\"45.1%\",\"33.9%\",\"4.7%\",\"14.4%\",\"0.7%\",\"1.2%\",\"34.5%\",\"25.5%\",\"0.6%\",\"39.4%\",\"45.2%\",\"19.3%\",\"20.6%\",\"10.0%\",\"4.9%\",\"55.8%\",\"7.9%\",\"2.3%\",\"13.4%\",\"8.7%\",\"12.1%\",\"63.7%\",\"12.1%\",\"5.1%\",\"4.5%\",\"4.3%\",\"10.4%\",\"57.5%\",\"15.0%\",\"11.2%\",\"2.7%\",\"2.7%\",\"10.9%\",\"37.5%\",\"2.2%\",\"2.4%\",\"55.3%\",\"0.7%\",\"1.9%\",\"7.5%\",\"8.3%\",\"0.7%\",\"3.3%\",\"13.5%\",\"66.7%\",\"51.2%\",\"13.2%\",\"19.0%\",\"1.7%\",\"0.8%\",\"14.0%\",\"34.0%\",\"11.9%\",\"9.7%\",\"25.5%\",\"1.3%\",\"17.6%\",\"42.7%\",\"3.4%\",\"23.4%\",\"1.6%\",\"24.9%\",\"4.1%\",\"52.2%\",\"5.4%\",\"20.0%\",\"19.9%\",\"0.4%\",\"2.2%\",\"37.9%\",\"6.3%\",\"43.7%\",\"4.3%\",\"0.7%\",\"7.2%\",\"100.0%\",\"100.0%\",\"100.0%\",\"100.0%\",\"23.1%\",\"50.7%\",\"1.6%\",\"76.9%\",\"49.3%\",\"98.4%\",\"100.0%\",null,null,null,null,null,null,null,null,null,null,null,null,null,null,null,null,null,null,null,null,null,null,null,null,null,null,null,null,null,null,null,null,null,null,null,null,null,null,null,null,null,null,null,null,null,null,null,null,null,null,null,null,null,null,null,null,null,null,null,null,null,null,null,null,null,null,null,null,null,null,null,null,null,null,null,null,null,null,null,null,null,null,null],\"hovertemplate\":\"%{target.label} accounts for %{customdata}<br>of %{source.label} consumption<extra>%{value} TJ</extra>\",\"source\":[0.0,0.0,0.0,0.0,1.0,1.0,1.0,1.0,2.0,2.0,2.0,2.0,2.0,2.0,2.0,2.0,3.0,3.0,3.0,3.0,3.0,4.0,4.0,5.0,5.0,5.0,5.0,5.0,5.0,5.0,6.0,6.0,6.0,6.0,6.0,6.0,6.0,7.0,7.0,7.0,7.0,7.0,7.0,7.0,8.0,8.0,8.0,8.0,8.0,8.0,8.0,9.0,9.0,9.0,9.0,9.0,9.0,10.0,10.0,10.0,10.0,11.0,11.0,11.0,11.0,11.0,12.0,12.0,12.0,12.0,12.0,12.0,13.0,13.0,13.0,13.0,13.0,13.0,14.0,14.0,14.0,14.0,14.0,14.0,15.0,15.0,15.0,15.0,15.0,15.0,16.0,16.0,16.0,16.0,16.0,16.0,17.0,17.0,17.0,17.0,17.0,17.0,18.0,18.0,18.0,18.0,18.0,18.0,19.0,20.0,21.0,19.0,19.0,19.0,20.0,20.0,20.0,20.0,20.0,20.0,21.0,21.0,21.0,21.0,21.0,21.0,22.0,23.0,34.0,35.0,36.0,37.0,38.0,36.0,37.0,38.0,39.0,null,null,null,null,null,null,null,null,null,null,null,null,null,null,null,null,null,null,null,null,null,null,null,null,null,null,null,null,null,null,null,null,null,null,null,null,null,null,null,null,null,null,null,null,null,null,null,null,null,null,null,null,null,null,null,null,null,null,null,null,null,null,null,null,null,null,null,null,null,null,null,null,null,null,null,null,null,null,null,null,null,null,null],\"target\":[1.0,2.0,3.0,4.0,5.0,6.0,7.0,8.0,9.0,10.0,11.0,12.0,13.0,14.0,15.0,16.0,17.0,18.0,19.0,20.0,21.0,22.0,23.0,24.0,25.0,26.0,27.0,28.0,29.0,30.0,24.0,25.0,26.0,27.0,28.0,29.0,30.0,24.0,25.0,26.0,27.0,28.0,29.0,30.0,24.0,25.0,26.0,27.0,28.0,29.0,30.0,24.0,25.0,27.0,26.0,31.0,30.0,25.0,27.0,31.0,30.0,25.0,27.0,28.0,31.0,30.0,25.0,27.0,28.0,26.0,31.0,30.0,25.0,27.0,28.0,26.0,31.0,30.0,25.0,27.0,28.0,26.0,31.0,30.0,25.0,27.0,28.0,32.0,31.0,30.0,25.0,27.0,28.0,26.0,31.0,30.0,33.0,27.0,25.0,31.0,24.0,30.0,33.0,27.0,25.0,31.0,24.0,30.0,33.0,27.0,25.0,31.0,24.0,30.0,33.0,27.0,25.0,31.0,24.0,30.0,33.0,27.0,25.0,31.0,24.0,30.0,30.0,30.0,0.0,0.0,35.0,35.0,35.0,34.0,34.0,34.0,34.0,null,null,null,null,null,null,null,null,null,null,null,null,null,null,null,null,null,null,null,null,null,null,null,null,null,null,null,null,null,null,null,null,null,null,null,null,null,null,null,null,null,null,null,null,null,null,null,null,null,null,null,null,null,null,null,null,null,null,null,null,null,null,null,null,null,null,null,null,null,null,null,null,null,null,null,null,null,null,null,null,null,null,null],\"value\":[46675.0,102171.0,7383.0,2871.0,11825.0,24126.0,6568.0,4157.0,8026.0,15082.0,16234.0,4531.0,5211.0,4394.0,5300.0,43392.0,120.0,2653.0,1962.0,1121.0,1526.0,2726.0,145.0,2027.0,4307.0,2262.0,621.0,1176.0,834.0,598.0,4259.0,9257.0,4835.0,1320.0,1788.0,1545.0,1122.0,996.0,3102.0,718.0,349.0,639.0,506.0,257.0,910.0,1474.0,871.0,211.0,215.0,171.0,304.0,3618.0,2723.0,379.0,1152.0,59.0,95.0,5197.0,3850.0,96.0,5939.0,7334.0,3130.0,3351.0,1629.0,790.0,2529.0,356.0,102.0,605.0,393.0,546.0,3317.0,629.0,265.0,236.0,224.0,540.0,2528.0,658.0,492.0,119.0,119.0,478.0,1988.0,119.0,125.0,2932.0,35.0,100.0,3237.0,3608.0,303.0,1432.0,5865.0,28947.0,62.0,16.0,23.0,2.0,1.0,17.0,903.0,317.0,257.0,676.0,34.0,466.0,837.0,66.0,459.0,31.0,489.0,80.0,585.0,60.0,224.0,223.0,4.0,25.0,578.0,96.0,667.0,65.0,10.0,110.0,2726.0,145.0,122266.8,36482.4,17630.15299,18831.82204,20.42496967,58688.064,18340.02,1222.668,44016.048,null,null,null,null,null,null,null,null,null,null,null,null,null,null,null,null,null,null,null,null,null,null,null,null,null,null,null,null,null,null,null,null,null,null,null,null,null,null,null,null,null,null,null,null,null,null,null,null,null,null,null,null,null,null,null,null,null,null,null,null,null,null,null,null,null,null,null,null,null,null,null,null,null,null,null,null,null,null,null,null,null,null,null]},\"node\":{\"color\":[\"grey\",\"green\",\"blue\",\"red\",\"magenta\",\"green\",\"green\",\"green\",\"green\",\"blue\",\"blue\",\"blue\",\"blue\",\"blue\",\"blue\",\"blue\",\"blue\",\"blue\",\"red\",\"red\",\"red\",\"red\",\"magenta\",\"magenta\",\"grey\",\"grey\",\"grey\",\"grey\",\"grey\",\"grey\",\"grey\",\"grey\",\"grey\",\"grey\",\"grey\",\"grey\",\"grey\",\"grey\",\"grey\",\"grey\"],\"hovertemplate\":\"%{label} has<br>consumption of %{value} TJ<extra></extra>\",\"label\":[\"Electricity\",\"Residential\",\"Commercial\",\"Industrial\",\"Transport\",\"Public Housing\",\"Private Housing\",\"Subsidized Flats\",\"Other Housing\",\"Restaurant\",\"Retail\",\"Office\",\"Accommodation\",\"Human Health\",\"Education\",\"Data Centre\",\"Other Commercial\",\"Textile & Apparel\",\"Non-manufacturing\",\"Food & Beverage\",\"Metal & Machinery\",\"Other Industrial\",\"Rail\",\"Other Transport\",\"Cooking\",\"Air Conditioning\",\"Hot Water & Refrigeration\",\"Lighting\",\"Office Equipment\",\"Laundry\",\"Others\",\"Vertical Transport\",\"Server Equipment\",\"Industrial Process/Equipment\",\"CLP\",\"HKE\",\"Gas\",\"Coal & Oil \",\"Renewables\",\"Nuclear\"],\"line\":{\"color\":\"black\",\"width\":0.5},\"pad\":10,\"thickness\":25},\"type\":\"sankey\"}],                        {\"template\":{\"data\":{\"bar\":[{\"error_x\":{\"color\":\"#2a3f5f\"},\"error_y\":{\"color\":\"#2a3f5f\"},\"marker\":{\"line\":{\"color\":\"#E5ECF6\",\"width\":0.5},\"pattern\":{\"fillmode\":\"overlay\",\"size\":10,\"solidity\":0.2}},\"type\":\"bar\"}],\"barpolar\":[{\"marker\":{\"line\":{\"color\":\"#E5ECF6\",\"width\":0.5},\"pattern\":{\"fillmode\":\"overlay\",\"size\":10,\"solidity\":0.2}},\"type\":\"barpolar\"}],\"carpet\":[{\"aaxis\":{\"endlinecolor\":\"#2a3f5f\",\"gridcolor\":\"white\",\"linecolor\":\"white\",\"minorgridcolor\":\"white\",\"startlinecolor\":\"#2a3f5f\"},\"baxis\":{\"endlinecolor\":\"#2a3f5f\",\"gridcolor\":\"white\",\"linecolor\":\"white\",\"minorgridcolor\":\"white\",\"startlinecolor\":\"#2a3f5f\"},\"type\":\"carpet\"}],\"choropleth\":[{\"colorbar\":{\"outlinewidth\":0,\"ticks\":\"\"},\"type\":\"choropleth\"}],\"contour\":[{\"colorbar\":{\"outlinewidth\":0,\"ticks\":\"\"},\"colorscale\":[[0.0,\"#0d0887\"],[0.1111111111111111,\"#46039f\"],[0.2222222222222222,\"#7201a8\"],[0.3333333333333333,\"#9c179e\"],[0.4444444444444444,\"#bd3786\"],[0.5555555555555556,\"#d8576b\"],[0.6666666666666666,\"#ed7953\"],[0.7777777777777778,\"#fb9f3a\"],[0.8888888888888888,\"#fdca26\"],[1.0,\"#f0f921\"]],\"type\":\"contour\"}],\"contourcarpet\":[{\"colorbar\":{\"outlinewidth\":0,\"ticks\":\"\"},\"type\":\"contourcarpet\"}],\"heatmap\":[{\"colorbar\":{\"outlinewidth\":0,\"ticks\":\"\"},\"colorscale\":[[0.0,\"#0d0887\"],[0.1111111111111111,\"#46039f\"],[0.2222222222222222,\"#7201a8\"],[0.3333333333333333,\"#9c179e\"],[0.4444444444444444,\"#bd3786\"],[0.5555555555555556,\"#d8576b\"],[0.6666666666666666,\"#ed7953\"],[0.7777777777777778,\"#fb9f3a\"],[0.8888888888888888,\"#fdca26\"],[1.0,\"#f0f921\"]],\"type\":\"heatmap\"}],\"heatmapgl\":[{\"colorbar\":{\"outlinewidth\":0,\"ticks\":\"\"},\"colorscale\":[[0.0,\"#0d0887\"],[0.1111111111111111,\"#46039f\"],[0.2222222222222222,\"#7201a8\"],[0.3333333333333333,\"#9c179e\"],[0.4444444444444444,\"#bd3786\"],[0.5555555555555556,\"#d8576b\"],[0.6666666666666666,\"#ed7953\"],[0.7777777777777778,\"#fb9f3a\"],[0.8888888888888888,\"#fdca26\"],[1.0,\"#f0f921\"]],\"type\":\"heatmapgl\"}],\"histogram\":[{\"marker\":{\"pattern\":{\"fillmode\":\"overlay\",\"size\":10,\"solidity\":0.2}},\"type\":\"histogram\"}],\"histogram2d\":[{\"colorbar\":{\"outlinewidth\":0,\"ticks\":\"\"},\"colorscale\":[[0.0,\"#0d0887\"],[0.1111111111111111,\"#46039f\"],[0.2222222222222222,\"#7201a8\"],[0.3333333333333333,\"#9c179e\"],[0.4444444444444444,\"#bd3786\"],[0.5555555555555556,\"#d8576b\"],[0.6666666666666666,\"#ed7953\"],[0.7777777777777778,\"#fb9f3a\"],[0.8888888888888888,\"#fdca26\"],[1.0,\"#f0f921\"]],\"type\":\"histogram2d\"}],\"histogram2dcontour\":[{\"colorbar\":{\"outlinewidth\":0,\"ticks\":\"\"},\"colorscale\":[[0.0,\"#0d0887\"],[0.1111111111111111,\"#46039f\"],[0.2222222222222222,\"#7201a8\"],[0.3333333333333333,\"#9c179e\"],[0.4444444444444444,\"#bd3786\"],[0.5555555555555556,\"#d8576b\"],[0.6666666666666666,\"#ed7953\"],[0.7777777777777778,\"#fb9f3a\"],[0.8888888888888888,\"#fdca26\"],[1.0,\"#f0f921\"]],\"type\":\"histogram2dcontour\"}],\"mesh3d\":[{\"colorbar\":{\"outlinewidth\":0,\"ticks\":\"\"},\"type\":\"mesh3d\"}],\"parcoords\":[{\"line\":{\"colorbar\":{\"outlinewidth\":0,\"ticks\":\"\"}},\"type\":\"parcoords\"}],\"pie\":[{\"automargin\":true,\"type\":\"pie\"}],\"scatter\":[{\"marker\":{\"colorbar\":{\"outlinewidth\":0,\"ticks\":\"\"}},\"type\":\"scatter\"}],\"scatter3d\":[{\"line\":{\"colorbar\":{\"outlinewidth\":0,\"ticks\":\"\"}},\"marker\":{\"colorbar\":{\"outlinewidth\":0,\"ticks\":\"\"}},\"type\":\"scatter3d\"}],\"scattercarpet\":[{\"marker\":{\"colorbar\":{\"outlinewidth\":0,\"ticks\":\"\"}},\"type\":\"scattercarpet\"}],\"scattergeo\":[{\"marker\":{\"colorbar\":{\"outlinewidth\":0,\"ticks\":\"\"}},\"type\":\"scattergeo\"}],\"scattergl\":[{\"marker\":{\"colorbar\":{\"outlinewidth\":0,\"ticks\":\"\"}},\"type\":\"scattergl\"}],\"scattermapbox\":[{\"marker\":{\"colorbar\":{\"outlinewidth\":0,\"ticks\":\"\"}},\"type\":\"scattermapbox\"}],\"scatterpolar\":[{\"marker\":{\"colorbar\":{\"outlinewidth\":0,\"ticks\":\"\"}},\"type\":\"scatterpolar\"}],\"scatterpolargl\":[{\"marker\":{\"colorbar\":{\"outlinewidth\":0,\"ticks\":\"\"}},\"type\":\"scatterpolargl\"}],\"scatterternary\":[{\"marker\":{\"colorbar\":{\"outlinewidth\":0,\"ticks\":\"\"}},\"type\":\"scatterternary\"}],\"surface\":[{\"colorbar\":{\"outlinewidth\":0,\"ticks\":\"\"},\"colorscale\":[[0.0,\"#0d0887\"],[0.1111111111111111,\"#46039f\"],[0.2222222222222222,\"#7201a8\"],[0.3333333333333333,\"#9c179e\"],[0.4444444444444444,\"#bd3786\"],[0.5555555555555556,\"#d8576b\"],[0.6666666666666666,\"#ed7953\"],[0.7777777777777778,\"#fb9f3a\"],[0.8888888888888888,\"#fdca26\"],[1.0,\"#f0f921\"]],\"type\":\"surface\"}],\"table\":[{\"cells\":{\"fill\":{\"color\":\"#EBF0F8\"},\"line\":{\"color\":\"white\"}},\"header\":{\"fill\":{\"color\":\"#C8D4E3\"},\"line\":{\"color\":\"white\"}},\"type\":\"table\"}]},\"layout\":{\"annotationdefaults\":{\"arrowcolor\":\"#2a3f5f\",\"arrowhead\":0,\"arrowwidth\":1},\"autotypenumbers\":\"strict\",\"coloraxis\":{\"colorbar\":{\"outlinewidth\":0,\"ticks\":\"\"}},\"colorscale\":{\"diverging\":[[0,\"#8e0152\"],[0.1,\"#c51b7d\"],[0.2,\"#de77ae\"],[0.3,\"#f1b6da\"],[0.4,\"#fde0ef\"],[0.5,\"#f7f7f7\"],[0.6,\"#e6f5d0\"],[0.7,\"#b8e186\"],[0.8,\"#7fbc41\"],[0.9,\"#4d9221\"],[1,\"#276419\"]],\"sequential\":[[0.0,\"#0d0887\"],[0.1111111111111111,\"#46039f\"],[0.2222222222222222,\"#7201a8\"],[0.3333333333333333,\"#9c179e\"],[0.4444444444444444,\"#bd3786\"],[0.5555555555555556,\"#d8576b\"],[0.6666666666666666,\"#ed7953\"],[0.7777777777777778,\"#fb9f3a\"],[0.8888888888888888,\"#fdca26\"],[1.0,\"#f0f921\"]],\"sequentialminus\":[[0.0,\"#0d0887\"],[0.1111111111111111,\"#46039f\"],[0.2222222222222222,\"#7201a8\"],[0.3333333333333333,\"#9c179e\"],[0.4444444444444444,\"#bd3786\"],[0.5555555555555556,\"#d8576b\"],[0.6666666666666666,\"#ed7953\"],[0.7777777777777778,\"#fb9f3a\"],[0.8888888888888888,\"#fdca26\"],[1.0,\"#f0f921\"]]},\"colorway\":[\"#636efa\",\"#EF553B\",\"#00cc96\",\"#ab63fa\",\"#FFA15A\",\"#19d3f3\",\"#FF6692\",\"#B6E880\",\"#FF97FF\",\"#FECB52\"],\"font\":{\"color\":\"#2a3f5f\"},\"geo\":{\"bgcolor\":\"white\",\"lakecolor\":\"white\",\"landcolor\":\"#E5ECF6\",\"showlakes\":true,\"showland\":true,\"subunitcolor\":\"white\"},\"hoverlabel\":{\"align\":\"left\"},\"hovermode\":\"closest\",\"mapbox\":{\"style\":\"light\"},\"paper_bgcolor\":\"white\",\"plot_bgcolor\":\"#E5ECF6\",\"polar\":{\"angularaxis\":{\"gridcolor\":\"white\",\"linecolor\":\"white\",\"ticks\":\"\"},\"bgcolor\":\"#E5ECF6\",\"radialaxis\":{\"gridcolor\":\"white\",\"linecolor\":\"white\",\"ticks\":\"\"}},\"scene\":{\"xaxis\":{\"backgroundcolor\":\"#E5ECF6\",\"gridcolor\":\"white\",\"gridwidth\":2,\"linecolor\":\"white\",\"showbackground\":true,\"ticks\":\"\",\"zerolinecolor\":\"white\"},\"yaxis\":{\"backgroundcolor\":\"#E5ECF6\",\"gridcolor\":\"white\",\"gridwidth\":2,\"linecolor\":\"white\",\"showbackground\":true,\"ticks\":\"\",\"zerolinecolor\":\"white\"},\"zaxis\":{\"backgroundcolor\":\"#E5ECF6\",\"gridcolor\":\"white\",\"gridwidth\":2,\"linecolor\":\"white\",\"showbackground\":true,\"ticks\":\"\",\"zerolinecolor\":\"white\"}},\"shapedefaults\":{\"line\":{\"color\":\"#2a3f5f\"}},\"ternary\":{\"aaxis\":{\"gridcolor\":\"white\",\"linecolor\":\"white\",\"ticks\":\"\"},\"baxis\":{\"gridcolor\":\"white\",\"linecolor\":\"white\",\"ticks\":\"\"},\"bgcolor\":\"#E5ECF6\",\"caxis\":{\"gridcolor\":\"white\",\"linecolor\":\"white\",\"ticks\":\"\"}},\"title\":{\"x\":0.05},\"xaxis\":{\"automargin\":true,\"gridcolor\":\"white\",\"linecolor\":\"white\",\"ticks\":\"\",\"title\":{\"standoff\":15},\"zerolinecolor\":\"white\",\"zerolinewidth\":2},\"yaxis\":{\"automargin\":true,\"gridcolor\":\"white\",\"linecolor\":\"white\",\"ticks\":\"\",\"title\":{\"standoff\":15},\"zerolinecolor\":\"white\",\"zerolinewidth\":2}}},\"title\":{\"text\":\"Electricity Consumption in Hong Kong (2020)\"},\"font\":{\"size\":10}},                        {\"responsive\": true}                    ).then(function(){\n",
              "                            \n",
              "var gd = document.getElementById('73cf97b0-978c-4c4d-a857-cf4ddac1c4d5');\n",
              "var x = new MutationObserver(function (mutations, observer) {{\n",
              "        var display = window.getComputedStyle(gd).display;\n",
              "        if (!display || display === 'none') {{\n",
              "            console.log([gd, 'removed!']);\n",
              "            Plotly.purge(gd);\n",
              "            observer.disconnect();\n",
              "        }}\n",
              "}});\n",
              "\n",
              "// Listen for the removal of the full notebook cells\n",
              "var notebookContainer = gd.closest('#notebook-container');\n",
              "if (notebookContainer) {{\n",
              "    x.observe(notebookContainer, {childList: true});\n",
              "}}\n",
              "\n",
              "// Listen for the clearing of the current output cell\n",
              "var outputEl = gd.closest('.output');\n",
              "if (outputEl) {{\n",
              "    x.observe(outputEl, {childList: true});\n",
              "}}\n",
              "\n",
              "                        })                };                            </script>        </div>\n",
              "</body>\n",
              "</html>"
            ]
          },
          "metadata": {}
        }
      ],
      "source": [
        "import plotly.graph_objects as go\n",
        "from pandas import *\n",
        "data = read_csv(\"Sankey Data.csv\")\n",
        "\n",
        "fig = go.Figure(data=[go.Sankey(\n",
        "    arrangement = \"snap\",\n",
        "    node = dict(\n",
        "      pad = 10,\n",
        "      thickness = 25,\n",
        "      line = dict(color = \"black\", width = 0.5),\n",
        "      label = [item for item in data['Labels'].tolist() if str(item) != 'nan'],\n",
        "      color = [item for item in data['Colors'].tolist() if str(item) != 'nan'],\n",
        "      hovertemplate = \"%{label} has<br>consumption of %{value} TJ<extra></extra>\",    \n",
        "    ),\n",
        "    link = dict(\n",
        "      source = data['Sources'].tolist(),\n",
        "      target = data['Targets'].tolist(),\n",
        "      value = data['Values'].tolist(),\n",
        "      customdata = data['Percentages'].tolist(),\n",
        "      hovertemplate='%{target.label} accounts for %{customdata}<br>of %{source.label} consumption<extra>%{value} TJ</extra>',\n",
        "  ))])\n",
        "\n",
        "fig.update_layout(title_text=\"Electricity Consumption in Hong Kong (2020)\", font_size=10)\n",
        "fig.show()\n",
        "fig.write_html(\"sankey.html\")"
      ]
    }
  ]
}