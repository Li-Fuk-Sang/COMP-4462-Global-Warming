{
 "cells": [
  {
   "cell_type": "markdown",
   "id": "6f5a5264",
   "metadata": {},
   "source": [
    "# COMP 4462 Project\n",
    "## Visualization of Hong Kong Compared to Global\n",
    "\n",
    "This is the data-preprocessing process for the visualization of the bubble chart, where the emission of each country is plotted against the temperture rise\n",
    "\n",
    "Because the task of this visualization is to compare where Hong Kong stands when compared to the global average, this task not possible to be accomplished by using data from Data.gov alone. I have decided to import multiple datasets from Kaggle.com to help me achieve this task. All other visualization in our group will use data from Data.gov.\n",
    "\n",
    "Ackownledgement of the data source: \n",
    "\n",
    "\n",
    "<strong>Data for greenhouse gas emission:</strong>\n",
    "https://www.kaggle.com/datasets/unitednations/international-greenhouse-gas-emissions\n",
    "\n",
    "\n",
    "<strong>Data for temperature rise by Country</strong>\n",
    "https://www.kaggle.com/datasets/shabou/ghg-emissions?select=owid-co2-data.csv\n",
    "\n"
   ]
  },
  {
   "cell_type": "code",
   "execution_count": 1,
   "id": "33f258a7",
   "metadata": {},
   "outputs": [],
   "source": [
    "import pandas as pd\n",
    "import numpy as np\n",
    "\n",
    "# Data for temperature rise\n",
    "df_temp = pd.read_csv('GlobalLandTemperaturesByCountry.csv', parse_dates = [\"dt\"])\n",
    "\n",
    "# Data for greenhouse gas emission\n",
    "df_emission = pd.read_csv('owid-co2-data.csv')"
   ]
  },
  {
   "cell_type": "markdown",
   "id": "97bcd306",
   "metadata": {},
   "source": [
    "### Exploring the Data\n",
    "\n",
    "Let's see what our data looks like"
   ]
  },
  {
   "cell_type": "code",
   "execution_count": 2,
   "id": "d4e8d667",
   "metadata": {},
   "outputs": [
    {
     "data": {
      "text/plain": [
       "(577462, 4)"
      ]
     },
     "execution_count": 2,
     "metadata": {},
     "output_type": "execute_result"
    }
   ],
   "source": [
    "df_temp.shape"
   ]
  },
  {
   "cell_type": "code",
   "execution_count": 3,
   "id": "040ec3df",
   "metadata": {},
   "outputs": [
    {
     "data": {
      "text/html": [
       "<div>\n",
       "<style scoped>\n",
       "    .dataframe tbody tr th:only-of-type {\n",
       "        vertical-align: middle;\n",
       "    }\n",
       "\n",
       "    .dataframe tbody tr th {\n",
       "        vertical-align: top;\n",
       "    }\n",
       "\n",
       "    .dataframe thead th {\n",
       "        text-align: right;\n",
       "    }\n",
       "</style>\n",
       "<table border=\"1\" class=\"dataframe\">\n",
       "  <thead>\n",
       "    <tr style=\"text-align: right;\">\n",
       "      <th></th>\n",
       "      <th>dt</th>\n",
       "      <th>AverageTemperature</th>\n",
       "      <th>AverageTemperatureUncertainty</th>\n",
       "      <th>Country</th>\n",
       "    </tr>\n",
       "  </thead>\n",
       "  <tbody>\n",
       "    <tr>\n",
       "      <th>0</th>\n",
       "      <td>1743-11-01</td>\n",
       "      <td>4.384</td>\n",
       "      <td>2.294</td>\n",
       "      <td>Åland</td>\n",
       "    </tr>\n",
       "    <tr>\n",
       "      <th>1</th>\n",
       "      <td>1743-12-01</td>\n",
       "      <td>NaN</td>\n",
       "      <td>NaN</td>\n",
       "      <td>Åland</td>\n",
       "    </tr>\n",
       "    <tr>\n",
       "      <th>2</th>\n",
       "      <td>1744-01-01</td>\n",
       "      <td>NaN</td>\n",
       "      <td>NaN</td>\n",
       "      <td>Åland</td>\n",
       "    </tr>\n",
       "    <tr>\n",
       "      <th>3</th>\n",
       "      <td>1744-02-01</td>\n",
       "      <td>NaN</td>\n",
       "      <td>NaN</td>\n",
       "      <td>Åland</td>\n",
       "    </tr>\n",
       "    <tr>\n",
       "      <th>4</th>\n",
       "      <td>1744-03-01</td>\n",
       "      <td>NaN</td>\n",
       "      <td>NaN</td>\n",
       "      <td>Åland</td>\n",
       "    </tr>\n",
       "  </tbody>\n",
       "</table>\n",
       "</div>"
      ],
      "text/plain": [
       "          dt  AverageTemperature  AverageTemperatureUncertainty Country\n",
       "0 1743-11-01               4.384                          2.294   Åland\n",
       "1 1743-12-01                 NaN                            NaN   Åland\n",
       "2 1744-01-01                 NaN                            NaN   Åland\n",
       "3 1744-02-01                 NaN                            NaN   Åland\n",
       "4 1744-03-01                 NaN                            NaN   Åland"
      ]
     },
     "execution_count": 3,
     "metadata": {},
     "output_type": "execute_result"
    }
   ],
   "source": [
    "df_temp.head()"
   ]
  },
  {
   "cell_type": "code",
   "execution_count": 4,
   "id": "e42172c7",
   "metadata": {},
   "outputs": [
    {
     "data": {
      "text/plain": [
       "(24016, 38)"
      ]
     },
     "execution_count": 4,
     "metadata": {},
     "output_type": "execute_result"
    }
   ],
   "source": [
    "df_emission.shape"
   ]
  },
  {
   "cell_type": "code",
   "execution_count": 5,
   "id": "4381a05f",
   "metadata": {
    "scrolled": false
   },
   "outputs": [
    {
     "data": {
      "text/html": [
       "<div>\n",
       "<style scoped>\n",
       "    .dataframe tbody tr th:only-of-type {\n",
       "        vertical-align: middle;\n",
       "    }\n",
       "\n",
       "    .dataframe tbody tr th {\n",
       "        vertical-align: top;\n",
       "    }\n",
       "\n",
       "    .dataframe thead th {\n",
       "        text-align: right;\n",
       "    }\n",
       "</style>\n",
       "<table border=\"1\" class=\"dataframe\">\n",
       "  <thead>\n",
       "    <tr style=\"text-align: right;\">\n",
       "      <th></th>\n",
       "      <th>iso_code</th>\n",
       "      <th>country</th>\n",
       "      <th>year</th>\n",
       "      <th>co2</th>\n",
       "      <th>co2_growth_prct</th>\n",
       "      <th>co2_growth_abs</th>\n",
       "      <th>consumption_co2</th>\n",
       "      <th>trade_co2</th>\n",
       "      <th>trade_co2_share</th>\n",
       "      <th>co2_per_capita</th>\n",
       "      <th>...</th>\n",
       "      <th>ghg_per_capita</th>\n",
       "      <th>methane</th>\n",
       "      <th>methane_per_capita</th>\n",
       "      <th>nitrous_oxide</th>\n",
       "      <th>nitrous_oxide_per_capita</th>\n",
       "      <th>primary_energy_consumption</th>\n",
       "      <th>energy_per_capita</th>\n",
       "      <th>energy_per_gdp</th>\n",
       "      <th>population</th>\n",
       "      <th>gdp</th>\n",
       "    </tr>\n",
       "  </thead>\n",
       "  <tbody>\n",
       "    <tr>\n",
       "      <th>0</th>\n",
       "      <td>AFG</td>\n",
       "      <td>Afghanistan</td>\n",
       "      <td>1949</td>\n",
       "      <td>0.015</td>\n",
       "      <td>NaN</td>\n",
       "      <td>NaN</td>\n",
       "      <td>NaN</td>\n",
       "      <td>NaN</td>\n",
       "      <td>NaN</td>\n",
       "      <td>0.0</td>\n",
       "      <td>...</td>\n",
       "      <td>NaN</td>\n",
       "      <td>NaN</td>\n",
       "      <td>NaN</td>\n",
       "      <td>NaN</td>\n",
       "      <td>NaN</td>\n",
       "      <td>NaN</td>\n",
       "      <td>NaN</td>\n",
       "      <td>NaN</td>\n",
       "      <td>7663783.0</td>\n",
       "      <td>NaN</td>\n",
       "    </tr>\n",
       "    <tr>\n",
       "      <th>1</th>\n",
       "      <td>AFG</td>\n",
       "      <td>Afghanistan</td>\n",
       "      <td>1950</td>\n",
       "      <td>0.084</td>\n",
       "      <td>475.000</td>\n",
       "      <td>0.070</td>\n",
       "      <td>NaN</td>\n",
       "      <td>NaN</td>\n",
       "      <td>NaN</td>\n",
       "      <td>0.0</td>\n",
       "      <td>...</td>\n",
       "      <td>NaN</td>\n",
       "      <td>NaN</td>\n",
       "      <td>NaN</td>\n",
       "      <td>NaN</td>\n",
       "      <td>NaN</td>\n",
       "      <td>NaN</td>\n",
       "      <td>NaN</td>\n",
       "      <td>NaN</td>\n",
       "      <td>7752000.0</td>\n",
       "      <td>1.949480e+10</td>\n",
       "    </tr>\n",
       "    <tr>\n",
       "      <th>2</th>\n",
       "      <td>AFG</td>\n",
       "      <td>Afghanistan</td>\n",
       "      <td>1951</td>\n",
       "      <td>0.092</td>\n",
       "      <td>8.696</td>\n",
       "      <td>0.007</td>\n",
       "      <td>NaN</td>\n",
       "      <td>NaN</td>\n",
       "      <td>NaN</td>\n",
       "      <td>0.0</td>\n",
       "      <td>...</td>\n",
       "      <td>NaN</td>\n",
       "      <td>NaN</td>\n",
       "      <td>NaN</td>\n",
       "      <td>NaN</td>\n",
       "      <td>NaN</td>\n",
       "      <td>NaN</td>\n",
       "      <td>NaN</td>\n",
       "      <td>NaN</td>\n",
       "      <td>7840000.0</td>\n",
       "      <td>2.006385e+10</td>\n",
       "    </tr>\n",
       "    <tr>\n",
       "      <th>3</th>\n",
       "      <td>AFG</td>\n",
       "      <td>Afghanistan</td>\n",
       "      <td>1952</td>\n",
       "      <td>0.092</td>\n",
       "      <td>0.000</td>\n",
       "      <td>0.000</td>\n",
       "      <td>NaN</td>\n",
       "      <td>NaN</td>\n",
       "      <td>NaN</td>\n",
       "      <td>0.0</td>\n",
       "      <td>...</td>\n",
       "      <td>NaN</td>\n",
       "      <td>NaN</td>\n",
       "      <td>NaN</td>\n",
       "      <td>NaN</td>\n",
       "      <td>NaN</td>\n",
       "      <td>NaN</td>\n",
       "      <td>NaN</td>\n",
       "      <td>NaN</td>\n",
       "      <td>7936000.0</td>\n",
       "      <td>2.074235e+10</td>\n",
       "    </tr>\n",
       "    <tr>\n",
       "      <th>4</th>\n",
       "      <td>AFG</td>\n",
       "      <td>Afghanistan</td>\n",
       "      <td>1953</td>\n",
       "      <td>0.106</td>\n",
       "      <td>16.000</td>\n",
       "      <td>0.015</td>\n",
       "      <td>NaN</td>\n",
       "      <td>NaN</td>\n",
       "      <td>NaN</td>\n",
       "      <td>0.0</td>\n",
       "      <td>...</td>\n",
       "      <td>NaN</td>\n",
       "      <td>NaN</td>\n",
       "      <td>NaN</td>\n",
       "      <td>NaN</td>\n",
       "      <td>NaN</td>\n",
       "      <td>NaN</td>\n",
       "      <td>NaN</td>\n",
       "      <td>NaN</td>\n",
       "      <td>8040000.0</td>\n",
       "      <td>2.201546e+10</td>\n",
       "    </tr>\n",
       "  </tbody>\n",
       "</table>\n",
       "<p>5 rows × 38 columns</p>\n",
       "</div>"
      ],
      "text/plain": [
       "  iso_code      country  year    co2  co2_growth_prct  co2_growth_abs  \\\n",
       "0      AFG  Afghanistan  1949  0.015              NaN             NaN   \n",
       "1      AFG  Afghanistan  1950  0.084          475.000           0.070   \n",
       "2      AFG  Afghanistan  1951  0.092            8.696           0.007   \n",
       "3      AFG  Afghanistan  1952  0.092            0.000           0.000   \n",
       "4      AFG  Afghanistan  1953  0.106           16.000           0.015   \n",
       "\n",
       "   consumption_co2  trade_co2  trade_co2_share  co2_per_capita  ...  \\\n",
       "0              NaN        NaN              NaN             0.0  ...   \n",
       "1              NaN        NaN              NaN             0.0  ...   \n",
       "2              NaN        NaN              NaN             0.0  ...   \n",
       "3              NaN        NaN              NaN             0.0  ...   \n",
       "4              NaN        NaN              NaN             0.0  ...   \n",
       "\n",
       "   ghg_per_capita  methane  methane_per_capita  nitrous_oxide  \\\n",
       "0             NaN      NaN                 NaN            NaN   \n",
       "1             NaN      NaN                 NaN            NaN   \n",
       "2             NaN      NaN                 NaN            NaN   \n",
       "3             NaN      NaN                 NaN            NaN   \n",
       "4             NaN      NaN                 NaN            NaN   \n",
       "\n",
       "   nitrous_oxide_per_capita  primary_energy_consumption  energy_per_capita  \\\n",
       "0                       NaN                         NaN                NaN   \n",
       "1                       NaN                         NaN                NaN   \n",
       "2                       NaN                         NaN                NaN   \n",
       "3                       NaN                         NaN                NaN   \n",
       "4                       NaN                         NaN                NaN   \n",
       "\n",
       "   energy_per_gdp  population           gdp  \n",
       "0             NaN   7663783.0           NaN  \n",
       "1             NaN   7752000.0  1.949480e+10  \n",
       "2             NaN   7840000.0  2.006385e+10  \n",
       "3             NaN   7936000.0  2.074235e+10  \n",
       "4             NaN   8040000.0  2.201546e+10  \n",
       "\n",
       "[5 rows x 38 columns]"
      ]
     },
     "execution_count": 5,
     "metadata": {},
     "output_type": "execute_result"
    }
   ],
   "source": [
    "df_emission.head()"
   ]
  },
  {
   "cell_type": "markdown",
   "id": "3edb1c4b",
   "metadata": {},
   "source": [
    "### Filtering the data\n",
    "\n",
    "For the temperature dataset, the granularity is by month. This is too fine for our visualization as our visualization will hav e the granularity of year. I will therefore process the data so that it averages the month data into year data.\n",
    "\n",
    "For the greenhouse gas emission data, only the field country, year, co2 and poppulation are useful"
   ]
  },
  {
   "cell_type": "code",
   "execution_count": 6,
   "id": "34f593a7",
   "metadata": {},
   "outputs": [],
   "source": [
    "df_emission = df_emission[[\"country\", \"year\", \"co2\", \"population\"]]"
   ]
  },
  {
   "cell_type": "code",
   "execution_count": 7,
   "id": "a99d59e5",
   "metadata": {
    "scrolled": true
   },
   "outputs": [
    {
     "name": "stdout",
     "output_type": "stream",
     "text": [
      "<class 'pandas.core.frame.DataFrame'>\n",
      "RangeIndex: 24016 entries, 0 to 24015\n",
      "Data columns (total 4 columns):\n",
      " #   Column      Non-Null Count  Dtype  \n",
      "---  ------      --------------  -----  \n",
      " 0   country     24016 non-null  object \n",
      " 1   year        24016 non-null  int64  \n",
      " 2   co2         23372 non-null  float64\n",
      " 3   population  19394 non-null  float64\n",
      "dtypes: float64(2), int64(1), object(1)\n",
      "memory usage: 750.6+ KB\n"
     ]
    }
   ],
   "source": [
    "df_emission.info()"
   ]
  },
  {
   "cell_type": "code",
   "execution_count": 8,
   "id": "bc995d4d",
   "metadata": {},
   "outputs": [],
   "source": [
    "# Changing the name of the columns so that we can merge the two dataset with ease later\n",
    "\n",
    "df_emission.rename(columns = {'year':'dt', 'country':'Country'}, inplace = True)"
   ]
  },
  {
   "cell_type": "code",
   "execution_count": 9,
   "id": "20a4eaf3",
   "metadata": {},
   "outputs": [],
   "source": [
    "# Parse Date\n",
    "\n",
    "df_emission[\"dt\"] = pd.to_datetime(df_emission[\"dt\"], format = \"%Y\")"
   ]
  },
  {
   "cell_type": "code",
   "execution_count": 10,
   "id": "742b84b6",
   "metadata": {
    "scrolled": true
   },
   "outputs": [
    {
     "data": {
      "text/html": [
       "<div>\n",
       "<style scoped>\n",
       "    .dataframe tbody tr th:only-of-type {\n",
       "        vertical-align: middle;\n",
       "    }\n",
       "\n",
       "    .dataframe tbody tr th {\n",
       "        vertical-align: top;\n",
       "    }\n",
       "\n",
       "    .dataframe thead th {\n",
       "        text-align: right;\n",
       "    }\n",
       "</style>\n",
       "<table border=\"1\" class=\"dataframe\">\n",
       "  <thead>\n",
       "    <tr style=\"text-align: right;\">\n",
       "      <th></th>\n",
       "      <th>Country</th>\n",
       "      <th>dt</th>\n",
       "      <th>co2</th>\n",
       "      <th>population</th>\n",
       "    </tr>\n",
       "  </thead>\n",
       "  <tbody>\n",
       "    <tr>\n",
       "      <th>0</th>\n",
       "      <td>Afghanistan</td>\n",
       "      <td>1949-01-01</td>\n",
       "      <td>0.015</td>\n",
       "      <td>7663783.0</td>\n",
       "    </tr>\n",
       "    <tr>\n",
       "      <th>1</th>\n",
       "      <td>Afghanistan</td>\n",
       "      <td>1950-01-01</td>\n",
       "      <td>0.084</td>\n",
       "      <td>7752000.0</td>\n",
       "    </tr>\n",
       "    <tr>\n",
       "      <th>2</th>\n",
       "      <td>Afghanistan</td>\n",
       "      <td>1951-01-01</td>\n",
       "      <td>0.092</td>\n",
       "      <td>7840000.0</td>\n",
       "    </tr>\n",
       "    <tr>\n",
       "      <th>3</th>\n",
       "      <td>Afghanistan</td>\n",
       "      <td>1952-01-01</td>\n",
       "      <td>0.092</td>\n",
       "      <td>7936000.0</td>\n",
       "    </tr>\n",
       "    <tr>\n",
       "      <th>4</th>\n",
       "      <td>Afghanistan</td>\n",
       "      <td>1953-01-01</td>\n",
       "      <td>0.106</td>\n",
       "      <td>8040000.0</td>\n",
       "    </tr>\n",
       "  </tbody>\n",
       "</table>\n",
       "</div>"
      ],
      "text/plain": [
       "       Country         dt    co2  population\n",
       "0  Afghanistan 1949-01-01  0.015   7663783.0\n",
       "1  Afghanistan 1950-01-01  0.084   7752000.0\n",
       "2  Afghanistan 1951-01-01  0.092   7840000.0\n",
       "3  Afghanistan 1952-01-01  0.092   7936000.0\n",
       "4  Afghanistan 1953-01-01  0.106   8040000.0"
      ]
     },
     "execution_count": 10,
     "metadata": {},
     "output_type": "execute_result"
    }
   ],
   "source": [
    "df_emission.head()"
   ]
  },
  {
   "cell_type": "code",
   "execution_count": 11,
   "id": "25d807a4",
   "metadata": {},
   "outputs": [],
   "source": [
    "# We will only use the data after 1990, more on that later\n",
    "\n",
    "df_emission = df_emission.loc[df_emission[\"dt\"] > '1990-1-1']"
   ]
  },
  {
   "cell_type": "code",
   "execution_count": 12,
   "id": "94c9fa40",
   "metadata": {
    "scrolled": true
   },
   "outputs": [
    {
     "data": {
      "text/plain": [
       "(6757, 4)"
      ]
     },
     "execution_count": 12,
     "metadata": {},
     "output_type": "execute_result"
    }
   ],
   "source": [
    "df_emission.shape"
   ]
  },
  {
   "cell_type": "markdown",
   "id": "a5c38c11",
   "metadata": {},
   "source": [
    "### Processing the Temperature Rise Data\n",
    "\n",
    "Processing the temperature rise data is arguably more tricky. \n",
    "\n",
    "As mentioned, we need a way to merge the month data into year data by taking average. We will also have to do that while keeping the country consistant (Only data of a certain country in a specific year will be merged).\n",
    "\n",
    "The dataset also only shows the average temperature data. For our visualization, we are more interested in <strong> temperature rise</strong>. This is data we don't have, and we will need a way to calculate that. \n",
    "\n",
    "More will be elaborated in the final report. "
   ]
  },
  {
   "cell_type": "code",
   "execution_count": 13,
   "id": "ebcfd466",
   "metadata": {
    "scrolled": true
   },
   "outputs": [
    {
     "name": "stdout",
     "output_type": "stream",
     "text": [
      "<class 'pandas.core.frame.DataFrame'>\n",
      "RangeIndex: 577462 entries, 0 to 577461\n",
      "Data columns (total 4 columns):\n",
      " #   Column                         Non-Null Count   Dtype         \n",
      "---  ------                         --------------   -----         \n",
      " 0   dt                             577462 non-null  datetime64[ns]\n",
      " 1   AverageTemperature             544811 non-null  float64       \n",
      " 2   AverageTemperatureUncertainty  545550 non-null  float64       \n",
      " 3   Country                        577462 non-null  object        \n",
      "dtypes: datetime64[ns](1), float64(2), object(1)\n",
      "memory usage: 17.6+ MB\n"
     ]
    }
   ],
   "source": [
    "df_temp.info()"
   ]
  },
  {
   "cell_type": "code",
   "execution_count": 14,
   "id": "7a1a9a06",
   "metadata": {},
   "outputs": [],
   "source": [
    "# We do not need the temperature uncertainly column to keep it simple\n",
    "\n",
    "df_temp = df_temp.drop(\"AverageTemperatureUncertainty\", axis = 1)"
   ]
  },
  {
   "cell_type": "code",
   "execution_count": 15,
   "id": "ff3b32c2",
   "metadata": {},
   "outputs": [],
   "source": [
    "# We will clone the Average Temperature Column\n",
    "# Because the original AverageTemperature Column will be used to store temperature difference instead\n",
    "\n",
    "df_temp[\"NewAverageTemperature\"] = df_temp[\"AverageTemperature\"]"
   ]
  },
  {
   "cell_type": "code",
   "execution_count": 16,
   "id": "4ef505ad",
   "metadata": {},
   "outputs": [],
   "source": [
    "# Grouping the data by country\n",
    "\n",
    "grouped = df_temp.groupby(\"Country\")"
   ]
  },
  {
   "cell_type": "code",
   "execution_count": 17,
   "id": "59c112bf",
   "metadata": {
    "scrolled": false
   },
   "outputs": [
    {
     "data": {
      "text/html": [
       "<div>\n",
       "<style scoped>\n",
       "    .dataframe tbody tr th:only-of-type {\n",
       "        vertical-align: middle;\n",
       "    }\n",
       "\n",
       "    .dataframe tbody tr th {\n",
       "        vertical-align: top;\n",
       "    }\n",
       "\n",
       "    .dataframe thead th {\n",
       "        text-align: right;\n",
       "    }\n",
       "</style>\n",
       "<table border=\"1\" class=\"dataframe\">\n",
       "  <thead>\n",
       "    <tr style=\"text-align: right;\">\n",
       "      <th></th>\n",
       "      <th>dt</th>\n",
       "      <th>AverageTemperature</th>\n",
       "      <th>Country</th>\n",
       "      <th>NewAverageTemperature</th>\n",
       "    </tr>\n",
       "  </thead>\n",
       "  <tbody>\n",
       "    <tr>\n",
       "      <th>0</th>\n",
       "      <td>1743-11-01</td>\n",
       "      <td>4.384</td>\n",
       "      <td>Åland</td>\n",
       "      <td>4.384</td>\n",
       "    </tr>\n",
       "    <tr>\n",
       "      <th>1</th>\n",
       "      <td>1743-12-01</td>\n",
       "      <td>NaN</td>\n",
       "      <td>Åland</td>\n",
       "      <td>NaN</td>\n",
       "    </tr>\n",
       "    <tr>\n",
       "      <th>2</th>\n",
       "      <td>1744-01-01</td>\n",
       "      <td>NaN</td>\n",
       "      <td>Åland</td>\n",
       "      <td>NaN</td>\n",
       "    </tr>\n",
       "    <tr>\n",
       "      <th>3</th>\n",
       "      <td>1744-02-01</td>\n",
       "      <td>NaN</td>\n",
       "      <td>Åland</td>\n",
       "      <td>NaN</td>\n",
       "    </tr>\n",
       "    <tr>\n",
       "      <th>4</th>\n",
       "      <td>1744-03-01</td>\n",
       "      <td>NaN</td>\n",
       "      <td>Åland</td>\n",
       "      <td>NaN</td>\n",
       "    </tr>\n",
       "    <tr>\n",
       "      <th>...</th>\n",
       "      <td>...</td>\n",
       "      <td>...</td>\n",
       "      <td>...</td>\n",
       "      <td>...</td>\n",
       "    </tr>\n",
       "    <tr>\n",
       "      <th>575497</th>\n",
       "      <td>1850-01-01</td>\n",
       "      <td>22.187</td>\n",
       "      <td>Zimbabwe</td>\n",
       "      <td>22.187</td>\n",
       "    </tr>\n",
       "    <tr>\n",
       "      <th>575498</th>\n",
       "      <td>1850-02-01</td>\n",
       "      <td>23.538</td>\n",
       "      <td>Zimbabwe</td>\n",
       "      <td>23.538</td>\n",
       "    </tr>\n",
       "    <tr>\n",
       "      <th>575499</th>\n",
       "      <td>1850-03-01</td>\n",
       "      <td>22.528</td>\n",
       "      <td>Zimbabwe</td>\n",
       "      <td>22.528</td>\n",
       "    </tr>\n",
       "    <tr>\n",
       "      <th>575500</th>\n",
       "      <td>1850-04-01</td>\n",
       "      <td>20.000</td>\n",
       "      <td>Zimbabwe</td>\n",
       "      <td>20.000</td>\n",
       "    </tr>\n",
       "    <tr>\n",
       "      <th>575501</th>\n",
       "      <td>1850-05-01</td>\n",
       "      <td>17.067</td>\n",
       "      <td>Zimbabwe</td>\n",
       "      <td>17.067</td>\n",
       "    </tr>\n",
       "  </tbody>\n",
       "</table>\n",
       "<p>1215 rows × 4 columns</p>\n",
       "</div>"
      ],
      "text/plain": [
       "               dt  AverageTemperature   Country  NewAverageTemperature\n",
       "0      1743-11-01               4.384     Åland                  4.384\n",
       "1      1743-12-01                 NaN     Åland                    NaN\n",
       "2      1744-01-01                 NaN     Åland                    NaN\n",
       "3      1744-02-01                 NaN     Åland                    NaN\n",
       "4      1744-03-01                 NaN     Åland                    NaN\n",
       "...           ...                 ...       ...                    ...\n",
       "575497 1850-01-01              22.187  Zimbabwe                 22.187\n",
       "575498 1850-02-01              23.538  Zimbabwe                 23.538\n",
       "575499 1850-03-01              22.528  Zimbabwe                 22.528\n",
       "575500 1850-04-01              20.000  Zimbabwe                 20.000\n",
       "575501 1850-05-01              17.067  Zimbabwe                 17.067\n",
       "\n",
       "[1215 rows x 4 columns]"
      ]
     },
     "execution_count": 17,
     "metadata": {},
     "output_type": "execute_result"
    }
   ],
   "source": [
    "grouped.head()"
   ]
  },
  {
   "cell_type": "markdown",
   "id": "e9b72ac8",
   "metadata": {},
   "source": [
    "(This is probably not the best solution but it works)\n",
    "\n",
    "We will loop through each group grouped by countries\n",
    "Within each group, we will further group it based on year, and merge all the month data into one year datapoint"
   ]
  },
  {
   "cell_type": "code",
   "execution_count": 18,
   "id": "4ff527d4",
   "metadata": {},
   "outputs": [
    {
     "name": "stdout",
     "output_type": "stream",
     "text": [
      "            dt  AverageTemperature  NewAverageTemperature      Country\n",
      "153 1991-01-01            0.629435              14.370750  Afghanistan\n",
      "154 1992-01-01            0.314768              14.056083  Afghanistan\n",
      "155 1993-01-01            0.697935              14.439250  Afghanistan\n",
      "156 1994-01-01            1.013435              14.754750  Afghanistan\n",
      "157 1995-01-01            1.117851              14.859167  Afghanistan\n",
      "..         ...                 ...                    ...          ...\n",
      "266 2009-01-01            1.528716               6.489083        Åland\n",
      "267 2010-01-01           -0.098451               4.861917        Åland\n",
      "268 2011-01-01            2.210383               7.170750        Åland\n",
      "269 2012-01-01            1.103549               6.063917        Åland\n",
      "270 2013-01-01            1.269383               6.229750        Åland\n",
      "\n",
      "[5589 rows x 4 columns]\n"
     ]
    }
   ],
   "source": [
    "# Empty dataframe\n",
    "big_df = pd.DataFrame()\n",
    "\n",
    "for name, g in grouped:\n",
    "    \n",
    "    # Thanks to: https://stackoverflow.com/questions/49216357/how-to-keep-original-index-of-a-dataframe-after-groupby-2-columns\n",
    "    # Essentially what we are doing here is finding the mean of the month data\n",
    "    group_df = g.groupby(g['dt'].dt.year).agg(\"mean\").reset_index()\n",
    "    \n",
    "    group_df[\"Country\"] = name\n",
    "    \n",
    "    group_df[\"dt\"] = pd.to_datetime(group_df[\"dt\"], format = \"%Y\")\n",
    "    \n",
    "    # Using the date as index\n",
    "    group_df.set_index(\"dt\")\n",
    "    \n",
    "    before_1990 = (group_df['dt'] <= '1900-1-1')\n",
    "    \n",
    "    after_1990 = (group_df['dt'] > '1990-1-1')\n",
    "    \n",
    "    # The temperature rise is calculated by the the difference of the datapoint minus the mean of all temperature before 1990s\n",
    "    mean_temp_before_1990 = group_df.loc[before_1990][\"AverageTemperature\"].mean()\n",
    "    \n",
    "    group_df = group_df.loc[after_1990]\n",
    "    \n",
    "    group_df[\"AverageTemperature\"] -= mean_temp_before_1990\n",
    "    \n",
    "    big_df = big_df.append(group_df)\n",
    "\n",
    "print(big_df)"
   ]
  },
  {
   "cell_type": "markdown",
   "id": "81166d69",
   "metadata": {},
   "source": [
    "### Merging the data\n",
    "\n",
    "We now have two dataframe\n",
    "\n",
    "`big_df`: Storing the temperature rise and average temperature data, by year\n",
    "\n",
    "\n",
    "`df_emission`: Storing the emission and population data, also by year"
   ]
  },
  {
   "cell_type": "code",
   "execution_count": 19,
   "id": "cf99fcd2",
   "metadata": {
    "scrolled": true
   },
   "outputs": [],
   "source": [
    "# Merging the data based on country\n",
    "\n",
    "bigger = pd.merge(big_df, df_emission, on=['dt', 'Country'], how='left')"
   ]
  },
  {
   "cell_type": "code",
   "execution_count": 20,
   "id": "ea691d78",
   "metadata": {},
   "outputs": [
    {
     "data": {
      "text/plain": [
       "(5589, 6)"
      ]
     },
     "execution_count": 20,
     "metadata": {},
     "output_type": "execute_result"
    }
   ],
   "source": [
    "bigger.shape"
   ]
  },
  {
   "cell_type": "markdown",
   "id": "fcb5a21f",
   "metadata": {},
   "source": [
    "### Dropping invalid data\n",
    "\n",
    "Many data points in the dataframe now is empty, this is mostly because the data for some years is missing in the the original dataset. \n",
    "\n",
    "The datasets also contains some countries which the other dataset do not have. \n",
    "\n",
    "<strong>There probably could have been better way to process the data, but for simplicity, I just drop all the empty values. Should have more than enough data for the visualization</strong>"
   ]
  },
  {
   "cell_type": "code",
   "execution_count": 21,
   "id": "ddd6fdf2",
   "metadata": {},
   "outputs": [],
   "source": [
    "bigger = bigger.dropna()"
   ]
  },
  {
   "cell_type": "markdown",
   "id": "a99505f6",
   "metadata": {},
   "source": [
    "### Taking log of the data\n",
    "\n",
    "The visualization would be impossible if I did not take log of the data, as the carbon emission of some countries is far more that the emission of others. \n",
    "\n",
    "I will justify this in my final report and in the presentation."
   ]
  },
  {
   "cell_type": "code",
   "execution_count": 22,
   "id": "1960b1cc",
   "metadata": {},
   "outputs": [],
   "source": [
    "bigger[\"co2_log\"] = np.log(bigger[\"co2\"])"
   ]
  },
  {
   "cell_type": "code",
   "execution_count": 23,
   "id": "279a394a",
   "metadata": {},
   "outputs": [],
   "source": [
    "# Exporting the data, done!\n",
    "\n",
    "bigger.to_csv('new.csv')"
   ]
  }
 ],
 "metadata": {
  "kernelspec": {
   "display_name": "Python 3",
   "language": "python",
   "name": "python3"
  },
  "language_info": {
   "codemirror_mode": {
    "name": "ipython",
    "version": 3
   },
   "file_extension": ".py",
   "mimetype": "text/x-python",
   "name": "python",
   "nbconvert_exporter": "python",
   "pygments_lexer": "ipython3",
   "version": "3.8.8"
  }
 },
 "nbformat": 4,
 "nbformat_minor": 5
}
